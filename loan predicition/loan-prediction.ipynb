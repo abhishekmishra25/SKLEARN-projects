{
 "cells": [
  {
   "cell_type": "code",
   "execution_count": 9,
   "id": "2e10c179",
   "metadata": {
    "_cell_guid": "b1076dfc-b9ad-4769-8c92-a6c4dae69d19",
    "_uuid": "8f2839f25d086af736a60e9eeb907d3b93b6e0e5",
    "execution": {
     "iopub.execute_input": "2021-08-17T18:27:57.556865Z",
     "iopub.status.busy": "2021-08-17T18:27:57.555681Z",
     "iopub.status.idle": "2021-08-17T18:27:57.585018Z",
     "shell.execute_reply": "2021-08-17T18:27:57.584024Z",
     "shell.execute_reply.started": "2021-08-17T18:20:16.980810Z"
    },
    "papermill": {
     "duration": 0.08024,
     "end_time": "2021-08-17T18:27:57.585268",
     "exception": false,
     "start_time": "2021-08-17T18:27:57.505028",
     "status": "completed"
    },
    "tags": []
   },
   "outputs": [
    {
     "name": "stdout",
     "output_type": "stream",
     "text": [
      "C:/Users/user\\python-projects\\loan predicition/input\\Sample Prediction Dataset.csv\n",
      "C:/Users/user\\python-projects\\loan predicition/input\\Test Data.csv\n",
      "C:/Users/user\\python-projects\\loan predicition/input\\Training Data.csv\n"
     ]
    }
   ],
   "source": [
    "# This Python 3 environment comes with many helpful analytics libraries installed\n",
    "# It is defined by the kaggle/python Docker image: https://github.com/kaggle/docker-python\n",
    "# For example, here's several helpful packages to load\n",
    "\n",
    "import numpy as np # linear algebra\n",
    "import pandas as pd # data processing, CSV file I/O (e.g. pd.read_csv)\n",
    "\n",
    "# Input data files are available in the read-only \"../input/\" directory\n",
    "# For example, running this (by clicking run or pressing Shift+Enter) will list all files under the input directory\n",
    "\n",
    "import os\n",
    "for dirname, _, filenames in os.walk('C:/Users/user\\python-projects\\loan predicition/input'):\n",
    "    for filename in filenames:\n",
    "        print(os.path.join(dirname, filename))\n",
    "\n",
    
   ]
  },
  {
   "cell_type": "markdown",
   "id": "1d5af03d",
   "metadata": {
    "papermill": {
     "duration": 0.047963,
     "end_time": "2021-08-17T18:27:57.687834",
     "exception": false,
     "start_time": "2021-08-17T18:27:57.639871",
     "status": "completed"
    },
    "tags": []
   },
   "source": [
    "## Importing Libraries"
   ]
  },
  {
   "cell_type": "code",
   "execution_count": 10,
   "id": "51a98a6d",
   "metadata": {
    "execution": {
     "iopub.execute_input": "2021-08-17T18:27:57.785587Z",
     "iopub.status.busy": "2021-08-17T18:27:57.784814Z",
     "iopub.status.idle": "2021-08-17T18:27:59.090233Z",
     "shell.execute_reply": "2021-08-17T18:27:59.089571Z",
     "shell.execute_reply.started": "2021-08-17T18:20:16.995467Z"
    },
    "papermill": {
     "duration": 1.356434,
     "end_time": "2021-08-17T18:27:59.090576",
     "exception": false,
     "start_time": "2021-08-17T18:27:57.734142",
     "status": "completed"
    },
    "tags": []
   },
   "outputs": [],
   "source": [
    "import matplotlib.pyplot as plt\n",
    "import seaborn as sb\n",
    "from sklearn import preprocessing\n",
    "from sklearn.model_selection import train_test_split\n",
    "from sklearn.linear_model import LogisticRegression\n",
    "from sklearn.metrics import classification_report\n",
    "from sklearn.metrics import accuracy_score"
   ]
  },
  {
   "cell_type": "markdown",
   "id": "84cf03f4",
   "metadata": {
    "papermill": {
     "duration": 0.045146,
     "end_time": "2021-08-17T18:27:59.181382",
     "exception": false,
     "start_time": "2021-08-17T18:27:59.136236",
     "status": "completed"
    },
    "tags": []
   },
   "source": [
    "## Reading Data"
   ]
  },
  {
   "cell_type": "code",
   "execution_count": 17,
   "id": "fad3e9f8",
   "metadata": {
    "execution": {
     "iopub.execute_input": "2021-08-17T18:27:59.275446Z",
     "iopub.status.busy": "2021-08-17T18:27:59.274818Z",
     "iopub.status.idle": "2021-08-17T18:27:59.980203Z",
     "shell.execute_reply": "2021-08-17T18:27:59.979718Z",
     "shell.execute_reply.started": "2021-08-17T18:20:17.003317Z"
    },
    "papermill": {
     "duration": 0.753264,
     "end_time": "2021-08-17T18:27:59.980377",
     "exception": false,
     "start_time": "2021-08-17T18:27:59.227113",
     "status": "completed"
    },
    "tags": []
   },
   "outputs": [
    {
     "data": {
      "text/plain": "   Id   Income  Age  Experience Married/Single House_Ownership Car_Ownership  \\\n0   1  1303834   23           3         single          rented            no   \n1   2  7574516   40          10         single          rented            no   \n2   3  3991815   66           4        married          rented            no   \n3   4  6256451   41           2         single          rented           yes   \n4   5  5768871   47          11         single          rented            no   \n\n            Profession                 CITY           STATE  CURRENT_JOB_YRS  \\\n0  Mechanical_engineer                 Rewa  Madhya_Pradesh                3   \n1   Software_Developer             Parbhani     Maharashtra                9   \n2     Technical_writer            Alappuzha          Kerala                4   \n3   Software_Developer          Bhubaneswar          Odisha                2   \n4        Civil_servant  Tiruchirappalli[10]      Tamil_Nadu                3   \n\n   CURRENT_HOUSE_YRS  Risk_Flag  \n0                 13          0  \n1                 13          0  \n2                 10          0  \n3                 12          1  \n4                 14          1  ",
      "text/html": "<div>\n<style scoped>\n    .dataframe tbody tr th:only-of-type {\n        vertical-align: middle;\n    }\n\n    .dataframe tbody tr th {\n        vertical-align: top;\n    }\n\n    .dataframe thead th {\n        text-align: right;\n    }\n</style>\n<table border=\"1\" class=\"dataframe\">\n  <thead>\n    <tr style=\"text-align: right;\">\n      <th></th>\n      <th>Id</th>\n      <th>Income</th>\n      <th>Age</th>\n      <th>Experience</th>\n      <th>Married/Single</th>\n      <th>House_Ownership</th>\n      <th>Car_Ownership</th>\n      <th>Profession</th>\n      <th>CITY</th>\n      <th>STATE</th>\n      <th>CURRENT_JOB_YRS</th>\n      <th>CURRENT_HOUSE_YRS</th>\n      <th>Risk_Flag</th>\n    </tr>\n  </thead>\n  <tbody>\n    <tr>\n      <th>0</th>\n      <td>1</td>\n      <td>1303834</td>\n      <td>23</td>\n      <td>3</td>\n      <td>single</td>\n      <td>rented</td>\n      <td>no</td>\n      <td>Mechanical_engineer</td>\n      <td>Rewa</td>\n      <td>Madhya_Pradesh</td>\n      <td>3</td>\n      <td>13</td>\n      <td>0</td>\n    </tr>\n    <tr>\n      <th>1</th>\n      <td>2</td>\n      <td>7574516</td>\n      <td>40</td>\n      <td>10</td>\n      <td>single</td>\n      <td>rented</td>\n      <td>no</td>\n      <td>Software_Developer</td>\n      <td>Parbhani</td>\n      <td>Maharashtra</td>\n      <td>9</td>\n      <td>13</td>\n      <td>0</td>\n    </tr>\n    <tr>\n      <th>2</th>\n      <td>3</td>\n      <td>3991815</td>\n      <td>66</td>\n      <td>4</td>\n      <td>married</td>\n      <td>rented</td>\n      <td>no</td>\n      <td>Technical_writer</td>\n      <td>Alappuzha</td>\n      <td>Kerala</td>\n      <td>4</td>\n      <td>10</td>\n      <td>0</td>\n    </tr>\n    <tr>\n      <th>3</th>\n      <td>4</td>\n      <td>6256451</td>\n      <td>41</td>\n      <td>2</td>\n      <td>single</td>\n      <td>rented</td>\n      <td>yes</td>\n      <td>Software_Developer</td>\n      <td>Bhubaneswar</td>\n      <td>Odisha</td>\n      <td>2</td>\n      <td>12</td>\n      <td>1</td>\n    </tr>\n    <tr>\n      <th>4</th>\n      <td>5</td>\n      <td>5768871</td>\n      <td>47</td>\n      <td>11</td>\n      <td>single</td>\n      <td>rented</td>\n      <td>no</td>\n      <td>Civil_servant</td>\n      <td>Tiruchirappalli[10]</td>\n      <td>Tamil_Nadu</td>\n      <td>3</td>\n      <td>14</td>\n      <td>1</td>\n    </tr>\n  </tbody>\n</table>\n</div>"
     },
     "execution_count": 17,
     "metadata": {},
     "output_type": "execute_result"
    }
   ],
   "source": [
    "train=pd.read_csv(\"C:/Users/user\\python-projects\\loan predicition\\input/Training Data.csv\")\n",
    "train.head()"
   ]
  },
  {
   "cell_type": "markdown",
   "id": "1adfe591",
   "metadata": {
    "papermill": {
     "duration": 0.045483,
     "end_time": "2021-08-17T18:28:00.072207",
     "exception": false,
     "start_time": "2021-08-17T18:28:00.026724",
     "status": "completed"
    },
    "tags": []
   },
   "source": [
    "## Size of Data"
   ]
  },
  {
   "cell_type": "code",
   "execution_count": 18,
   "id": "fa8a00b4",
   "metadata": {
    "execution": {
     "iopub.execute_input": "2021-08-17T18:28:00.169503Z",
     "iopub.status.busy": "2021-08-17T18:28:00.168862Z",
     "iopub.status.idle": "2021-08-17T18:28:00.173057Z",
     "shell.execute_reply": "2021-08-17T18:28:00.172456Z",
     "shell.execute_reply.started": "2021-08-17T18:20:17.466187Z"
    },
    "papermill": {
     "duration": 0.055064,
     "end_time": "2021-08-17T18:28:00.173188",
     "exception": false,
     "start_time": "2021-08-17T18:28:00.118124",
     "status": "completed"
    },
    "tags": []
   },
   "outputs": [
    {
     "data": {
      "text/plain": "(252000, 13)"
     },
     "execution_count": 18,
     "metadata": {},
     "output_type": "execute_result"
    }
   ],
   "source": [
    "train.shape"
   ]
  },
  {
   "cell_type": "markdown",
   "id": "b07c5bee",
   "metadata": {
    "papermill": {
     "duration": 0.045755,
     "end_time": "2021-08-17T18:28:00.265506",
     "exception": false,
     "start_time": "2021-08-17T18:28:00.219751",
     "status": "completed"
    },
    "tags": []
   },
   "source": [
    "## Test Data"
   ]
  },
  {
   "cell_type": "code",
   "execution_count": 19,
   "id": "5b869303",
   "metadata": {
    "execution": {
     "iopub.execute_input": "2021-08-17T18:28:00.362393Z",
     "iopub.status.busy": "2021-08-17T18:28:00.361769Z",
     "iopub.status.idle": "2021-08-17T18:28:00.453014Z",
     "shell.execute_reply": "2021-08-17T18:28:00.453487Z",
     "shell.execute_reply.started": "2021-08-17T18:20:17.473914Z"
    },
    "papermill": {
     "duration": 0.142038,
     "end_time": "2021-08-17T18:28:00.453671",
     "exception": false,
     "start_time": "2021-08-17T18:28:00.311633",
     "status": "completed"
    },
    "tags": []
   },
   "outputs": [
    {
     "data": {
      "text/plain": "   ID   Income  Age  Experience Married/Single House_Ownership Car_Ownership  \\\n0   1  7393090   59          19         single          rented            no   \n1   2  1215004   25           5         single          rented            no   \n2   3  8901342   50          12         single          rented            no   \n3   4  1944421   49           9        married          rented           yes   \n4   5    13429   25          18         single          rented           yes   \n\n    Profession        CITY        STATE  CURRENT_JOB_YRS  CURRENT_HOUSE_YRS  \n0    Geologist       Malda  West Bengal                4                 13  \n1  Firefighter       Jalna  Maharashtra                5                 10  \n2       Lawyer       Thane  Maharashtra                9                 14  \n3      Analyst       Latur  Maharashtra                3                 12  \n4     Comedian  Berhampore  West Bengal               13                 11  ",
      "text/html": "<div>\n<style scoped>\n    .dataframe tbody tr th:only-of-type {\n        vertical-align: middle;\n    }\n\n    .dataframe tbody tr th {\n        vertical-align: top;\n    }\n\n    .dataframe thead th {\n        text-align: right;\n    }\n</style>\n<table border=\"1\" class=\"dataframe\">\n  <thead>\n    <tr style=\"text-align: right;\">\n      <th></th>\n      <th>ID</th>\n      <th>Income</th>\n      <th>Age</th>\n      <th>Experience</th>\n      <th>Married/Single</th>\n      <th>House_Ownership</th>\n      <th>Car_Ownership</th>\n      <th>Profession</th>\n      <th>CITY</th>\n      <th>STATE</th>\n      <th>CURRENT_JOB_YRS</th>\n      <th>CURRENT_HOUSE_YRS</th>\n    </tr>\n  </thead>\n  <tbody>\n    <tr>\n      <th>0</th>\n      <td>1</td>\n      <td>7393090</td>\n      <td>59</td>\n      <td>19</td>\n      <td>single</td>\n      <td>rented</td>\n      <td>no</td>\n      <td>Geologist</td>\n      <td>Malda</td>\n      <td>West Bengal</td>\n      <td>4</td>\n      <td>13</td>\n    </tr>\n    <tr>\n      <th>1</th>\n      <td>2</td>\n      <td>1215004</td>\n      <td>25</td>\n      <td>5</td>\n      <td>single</td>\n      <td>rented</td>\n      <td>no</td>\n      <td>Firefighter</td>\n      <td>Jalna</td>\n      <td>Maharashtra</td>\n      <td>5</td>\n      <td>10</td>\n    </tr>\n    <tr>\n      <th>2</th>\n      <td>3</td>\n      <td>8901342</td>\n      <td>50</td>\n      <td>12</td>\n      <td>single</td>\n      <td>rented</td>\n      <td>no</td>\n      <td>Lawyer</td>\n      <td>Thane</td>\n      <td>Maharashtra</td>\n      <td>9</td>\n      <td>14</td>\n    </tr>\n    <tr>\n      <th>3</th>\n      <td>4</td>\n      <td>1944421</td>\n      <td>49</td>\n      <td>9</td>\n      <td>married</td>\n      <td>rented</td>\n      <td>yes</td>\n      <td>Analyst</td>\n      <td>Latur</td>\n      <td>Maharashtra</td>\n      <td>3</td>\n      <td>12</td>\n    </tr>\n    <tr>\n      <th>4</th>\n      <td>5</td>\n      <td>13429</td>\n      <td>25</td>\n      <td>18</td>\n      <td>single</td>\n      <td>rented</td>\n      <td>yes</td>\n      <td>Comedian</td>\n      <td>Berhampore</td>\n      <td>West Bengal</td>\n      <td>13</td>\n      <td>11</td>\n    </tr>\n  </tbody>\n</table>\n</div>"
     },
     "execution_count": 19,
     "metadata": {},
     "output_type": "execute_result"
    }
   ],
   "source": [
    "test=pd.read_csv(\"C:/Users/user\\python-projects\\loan predicition\\input/Test Data.csv\")\n",
    "test.head()"
   ]
  },
  {
   "cell_type": "markdown",
   "id": "5b2a8856",
   "metadata": {
    "papermill": {
     "duration": 0.046717,
     "end_time": "2021-08-17T18:28:00.547539",
     "exception": false,
     "start_time": "2021-08-17T18:28:00.500822",
     "status": "completed"
    },
    "tags": []
   },
   "source": [
    "## Target variavle"
   ]
  },
  {
   "cell_type": "code",
   "execution_count": 20,
   "id": "48c69a19",
   "metadata": {
    "execution": {
     "iopub.execute_input": "2021-08-17T18:28:00.645704Z",
     "iopub.status.busy": "2021-08-17T18:28:00.645050Z",
     "iopub.status.idle": "2021-08-17T18:28:00.656110Z",
     "shell.execute_reply": "2021-08-17T18:28:00.655547Z",
     "shell.execute_reply.started": "2021-08-17T18:20:17.552022Z"
    },
    "papermill": {
     "duration": 0.061251,
     "end_time": "2021-08-17T18:28:00.656243",
     "exception": false,
     "start_time": "2021-08-17T18:28:00.594992",
     "status": "completed"
    },
    "tags": []
   },
   "outputs": [
    {
     "data": {
      "text/plain": "array([0, 1], dtype=int64)"
     },
     "execution_count": 20,
     "metadata": {},
     "output_type": "execute_result"
    }
   ],
   "source": [
    "train[\"Risk_Flag\"].unique()"
   ]
  },
  {
   "cell_type": "markdown",
   "id": "4b1749fd",
   "metadata": {
    "papermill": {
     "duration": 0.04685,
     "end_time": "2021-08-17T18:28:00.750363",
     "exception": false,
     "start_time": "2021-08-17T18:28:00.703513",
     "status": "completed"
    },
    "tags": []
   },
   "source": [
    "## Descriptive values"
   ]
  },
  {
   "cell_type": "code",
   "execution_count": 21,
   "id": "787da3fe",
   "metadata": {
    "execution": {
     "iopub.execute_input": "2021-08-17T18:28:00.848306Z",
     "iopub.status.busy": "2021-08-17T18:28:00.847683Z",
     "iopub.status.idle": "2021-08-17T18:28:00.934955Z",
     "shell.execute_reply": "2021-08-17T18:28:00.934447Z",
     "shell.execute_reply.started": "2021-08-17T18:20:17.563210Z"
    },
    "papermill": {
     "duration": 0.137517,
     "end_time": "2021-08-17T18:28:00.935092",
     "exception": false,
     "start_time": "2021-08-17T18:28:00.797575",
     "status": "completed"
    },
    "tags": []
   },
   "outputs": [
    {
     "data": {
      "text/plain": "                  Id        Income            Age     Experience  \\\ncount  252000.000000  2.520000e+05  252000.000000  252000.000000   \nmean   126000.500000  4.997117e+06      49.954071      10.084437   \nstd     72746.278255  2.878311e+06      17.063855       6.002590   \nmin         1.000000  1.031000e+04      21.000000       0.000000   \n25%     63000.750000  2.503015e+06      35.000000       5.000000   \n50%    126000.500000  5.000694e+06      50.000000      10.000000   \n75%    189000.250000  7.477502e+06      65.000000      15.000000   \nmax    252000.000000  9.999938e+06      79.000000      20.000000   \n\n       CURRENT_JOB_YRS  CURRENT_HOUSE_YRS      Risk_Flag  \ncount    252000.000000      252000.000000  252000.000000  \nmean          6.333877          11.997794       0.123000  \nstd           3.647053           1.399037       0.328438  \nmin           0.000000          10.000000       0.000000  \n25%           3.000000          11.000000       0.000000  \n50%           6.000000          12.000000       0.000000  \n75%           9.000000          13.000000       0.000000  \nmax          14.000000          14.000000       1.000000  ",
      "text/html": "<div>\n<style scoped>\n    .dataframe tbody tr th:only-of-type {\n        vertical-align: middle;\n    }\n\n    .dataframe tbody tr th {\n        vertical-align: top;\n    }\n\n    .dataframe thead th {\n        text-align: right;\n    }\n</style>\n<table border=\"1\" class=\"dataframe\">\n  <thead>\n    <tr style=\"text-align: right;\">\n      <th></th>\n      <th>Id</th>\n      <th>Income</th>\n      <th>Age</th>\n      <th>Experience</th>\n      <th>CURRENT_JOB_YRS</th>\n      <th>CURRENT_HOUSE_YRS</th>\n      <th>Risk_Flag</th>\n    </tr>\n  </thead>\n  <tbody>\n    <tr>\n      <th>count</th>\n      <td>252000.000000</td>\n      <td>2.520000e+05</td>\n      <td>252000.000000</td>\n      <td>252000.000000</td>\n      <td>252000.000000</td>\n      <td>252000.000000</td>\n      <td>252000.000000</td>\n    </tr>\n    <tr>\n      <th>mean</th>\n      <td>126000.500000</td>\n      <td>4.997117e+06</td>\n      <td>49.954071</td>\n      <td>10.084437</td>\n      <td>6.333877</td>\n      <td>11.997794</td>\n      <td>0.123000</td>\n    </tr>\n    <tr>\n      <th>std</th>\n      <td>72746.278255</td>\n      <td>2.878311e+06</td>\n      <td>17.063855</td>\n      <td>6.002590</td>\n      <td>3.647053</td>\n      <td>1.399037</td>\n      <td>0.328438</td>\n    </tr>\n    <tr>\n      <th>min</th>\n      <td>1.000000</td>\n      <td>1.031000e+04</td>\n      <td>21.000000</td>\n      <td>0.000000</td>\n      <td>0.000000</td>\n      <td>10.000000</td>\n      <td>0.000000</td>\n    </tr>\n    <tr>\n      <th>25%</th>\n      <td>63000.750000</td>\n      <td>2.503015e+06</td>\n      <td>35.000000</td>\n      <td>5.000000</td>\n      <td>3.000000</td>\n      <td>11.000000</td>\n      <td>0.000000</td>\n    </tr>\n    <tr>\n      <th>50%</th>\n      <td>126000.500000</td>\n      <td>5.000694e+06</td>\n      <td>50.000000</td>\n      <td>10.000000</td>\n      <td>6.000000</td>\n      <td>12.000000</td>\n      <td>0.000000</td>\n    </tr>\n    <tr>\n      <th>75%</th>\n      <td>189000.250000</td>\n      <td>7.477502e+06</td>\n      <td>65.000000</td>\n      <td>15.000000</td>\n      <td>9.000000</td>\n      <td>13.000000</td>\n      <td>0.000000</td>\n    </tr>\n    <tr>\n      <th>max</th>\n      <td>252000.000000</td>\n      <td>9.999938e+06</td>\n      <td>79.000000</td>\n      <td>20.000000</td>\n      <td>14.000000</td>\n      <td>14.000000</td>\n      <td>1.000000</td>\n    </tr>\n  </tbody>\n</table>\n</div>"
     },
     "execution_count": 21,
     "metadata": {},
     "output_type": "execute_result"
    }
   ],
   "source": [
    "train.describe()"
   ]
  },
  {
   "cell_type": "markdown",
   "id": "e7b67805",
   "metadata": {
    "papermill": {
     "duration": 0.04871,
     "end_time": "2021-08-17T18:28:01.032852",
     "exception": false,
     "start_time": "2021-08-17T18:28:00.984142",
     "status": "completed"
    },
    "tags": []
   },
   "source": [
    "## Null check"
   ]
  },
  {
   "cell_type": "code",
   "execution_count": 22,
   "id": "2568675d",
   "metadata": {
    "execution": {
     "iopub.execute_input": "2021-08-17T18:28:01.276116Z",
     "iopub.status.busy": "2021-08-17T18:28:01.132161Z",
     "iopub.status.idle": "2021-08-17T18:28:01.287335Z",
     "shell.execute_reply": "2021-08-17T18:28:01.287768Z",
     "shell.execute_reply.started": "2021-08-17T18:20:17.649023Z"
    },
    "papermill": {
     "duration": 0.207392,
     "end_time": "2021-08-17T18:28:01.287937",
     "exception": false,
     "start_time": "2021-08-17T18:28:01.080545",
     "status": "completed"
    },
    "tags": []
   },
   "outputs": [
    {
     "data": {
      "text/plain": "Id                   0\nIncome               0\nAge                  0\nExperience           0\nMarried/Single       0\nHouse_Ownership      0\nCar_Ownership        0\nProfession           0\nCITY                 0\nSTATE                0\nCURRENT_JOB_YRS      0\nCURRENT_HOUSE_YRS    0\nRisk_Flag            0\ndtype: int64"
     },
     "execution_count": 22,
     "metadata": {},
     "output_type": "execute_result"
    }
   ],
   "source": [
    "train.isnull().sum() # no nulls "
   ]
  },
  {
   "cell_type": "markdown",
   "id": "ddaa2f35",
   "metadata": {
    "papermill": {
     "duration": 0.048003,
     "end_time": "2021-08-17T18:28:01.383652",
     "exception": false,
     "start_time": "2021-08-17T18:28:01.335649",
     "status": "completed"
    },
    "tags": []
   },
   "source": [
    "## Visualization\n",
    "- Pie chart"
   ]
  },
  {
   "cell_type": "code",
   "execution_count": 23,
   "id": "f6185efe",
   "metadata": {
    "execution": {
     "iopub.execute_input": "2021-08-17T18:28:01.483242Z",
     "iopub.status.busy": "2021-08-17T18:28:01.482331Z",
     "iopub.status.idle": "2021-08-17T18:28:01.901755Z",
     "shell.execute_reply": "2021-08-17T18:28:01.902191Z",
     "shell.execute_reply.started": "2021-08-17T18:20:17.812608Z"
    },
    "papermill": {
     "duration": 0.470698,
     "end_time": "2021-08-17T18:28:01.902376",
     "exception": false,
     "start_time": "2021-08-17T18:28:01.431678",
     "status": "completed"
    },
    "tags": []
   },
   "outputs": [
    {
     "data": {
      "text/plain": "<Figure size 432x288 with 4 Axes>",
      "image/png": "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\n"
     },
     "metadata": {},
     "output_type": "display_data"
    }
   ],
   "source": [
    "plt.subplot(1,4,1)\n",
    "plt.subplots_adjust(left=0,right=3,bottom=1,top=2,wspace=0.2,hspace=0.4)\n",
    "label_age=['single', 'married']\n",
    "plt.title(\"Married/Single\")\n",
    "plt.pie(train.groupby(train[\"Married/Single\"]).size(),labels=label_age)\n",
    "\n",
    "plt.subplot(1,4,2)\n",
    "label_gen=['rented', 'norent_noown', 'owned']\n",
    "plt.title(\"House_Ownership\")\n",
    "plt.pie(train.groupby(train[\"House_Ownership\"]).size(),labels=label_gen)\n",
    "\n",
    "plt.subplot(1,4,3)\n",
    "label_ed=['no', 'yes']\n",
    "plt.title(\"Car_Ownership\")\n",
    "plt.pie(train.groupby(train[\"Car_Ownership\"]).size(),labels=label_ed)\n",
    "\n",
    "plt.subplot(1,4,4)\n",
    "label_ed=[0, 1]\n",
    "plt.title(\"Risk_Flag\")\n",
    "plt.pie(train.groupby(train[\"Risk_Flag\"]).size(),labels=label_ed)\n",
    "\n",
    "plt.show()"
   ]
  },
  {
   "cell_type": "markdown",
   "id": "fa9db436",
   "metadata": {
    "papermill": {
     "duration": 0.050514,
     "end_time": "2021-08-17T18:28:02.002204",
     "exception": false,
     "start_time": "2021-08-17T18:28:01.951690",
     "status": "completed"
    },
    "tags": []
   },
   "source": [
    "- Count plot"
   ]
  },
  {
   "cell_type": "code",
   "execution_count": 24,
   "id": "b30a71aa",
   "metadata": {
    "execution": {
     "iopub.execute_input": "2021-08-17T18:28:02.106082Z",
     "iopub.status.busy": "2021-08-17T18:28:02.105112Z",
     "iopub.status.idle": "2021-08-17T18:28:03.433584Z",
     "shell.execute_reply": "2021-08-17T18:28:03.434064Z",
     "shell.execute_reply.started": "2021-08-17T18:20:18.197326Z"
    },
    "papermill": {
     "duration": 1.381752,
     "end_time": "2021-08-17T18:28:03.434269",
     "exception": false,
     "start_time": "2021-08-17T18:28:02.052517",
     "status": "completed"
    },
    "tags": []
   },
   "outputs": [
    {
     "data": {
      "text/plain": "<Figure size 1080x360 with 1 Axes>",
      "image/png": "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\n"
     },
     "metadata": {
      "needs_background": "light"
     },
     "output_type": "display_data"
    }
   ],
   "source": [
    "plt.figure(figsize=(15,5))\n",
    "plt.xticks(rotation=\"90\")\n",
    "sb.countplot(x=\"Profession\", data=train)\n",
    "plt.show()"
   ]
  },
  {
   "cell_type": "code",
   "execution_count": 25,
   "id": "22ab2678",
   "metadata": {
    "execution": {
     "iopub.execute_input": "2021-08-17T18:28:03.612579Z",
     "iopub.status.busy": "2021-08-17T18:28:03.597213Z",
     "iopub.status.idle": "2021-08-17T18:28:04.177739Z",
     "shell.execute_reply": "2021-08-17T18:28:04.177089Z",
     "shell.execute_reply.started": "2021-08-17T18:20:19.409554Z"
    },
    "papermill": {
     "duration": 0.69082,
     "end_time": "2021-08-17T18:28:04.177873",
     "exception": false,
     "start_time": "2021-08-17T18:28:03.487053",
     "status": "completed"
    },
    "tags": []
   },
   "outputs": [
    {
     "data": {
      "text/plain": "<Figure size 1440x360 with 1 Axes>",
      "image/png": "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\n"
     },
     "metadata": {
      "needs_background": "light"
     },
     "output_type": "display_data"
    }
   ],
   "source": [
    "plt.figure(figsize=(20,5))\n",
    "plt.xticks(rotation=\"60\")\n",
    "sb.countplot(x=\"STATE\", data=train)\n",
    "plt.show()"
   ]
  },
  {
   "cell_type": "code",
   "execution_count": 26,
   "id": "eef43e89",
   "metadata": {
    "execution": {
     "iopub.execute_input": "2021-08-17T18:28:04.319906Z",
     "iopub.status.busy": "2021-08-17T18:28:04.318824Z",
     "iopub.status.idle": "2021-08-17T18:28:04.558106Z",
     "shell.execute_reply": "2021-08-17T18:28:04.557558Z",
     "shell.execute_reply.started": "2021-08-17T18:20:20.198961Z"
    },
    "papermill": {
     "duration": 0.327113,
     "end_time": "2021-08-17T18:28:04.558247",
     "exception": false,
     "start_time": "2021-08-17T18:28:04.231134",
     "status": "completed"
    },
    "tags": []
   },
   "outputs": [
    {
     "data": {
      "text/plain": "<Figure size 720x360 with 1 Axes>",
      "image/png": "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\n"
     },
     "metadata": {
      "needs_background": "light"
     },
     "output_type": "display_data"
    }
   ],
   "source": [
    "plt.figure(figsize=(10,5))\n",
    "plt.xticks(rotation=\"60\")\n",
    "sb.countplot(x=\"Experience\", data=train)\n",
    "plt.show()"
   ]
  },
  {
   "cell_type": "code",
   "execution_count": 27,
   "id": "6ea94f56",
   "metadata": {
    "execution": {
     "iopub.execute_input": "2021-08-17T18:28:04.700784Z",
     "iopub.status.busy": "2021-08-17T18:28:04.687968Z",
     "iopub.status.idle": "2021-08-17T18:28:04.896540Z",
     "shell.execute_reply": "2021-08-17T18:28:04.895927Z",
     "shell.execute_reply.started": "2021-08-17T18:20:20.488926Z"
    },
    "papermill": {
     "duration": 0.284717,
     "end_time": "2021-08-17T18:28:04.896691",
     "exception": false,
     "start_time": "2021-08-17T18:28:04.611974",
     "status": "completed"
    },
    "tags": []
   },
   "outputs": [
    {
     "data": {
      "text/plain": "<Figure size 720x360 with 1 Axes>",
      "image/png": "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\n"
     },
     "metadata": {
      "needs_background": "light"
     },
     "output_type": "display_data"
    }
   ],
   "source": [
    "plt.figure(figsize=(10,5))\n",
    "plt.xticks(rotation=\"60\")\n",
    "sb.countplot(x=\"CURRENT_JOB_YRS\", data=train)\n",
    "plt.show()"
   ]
  },
  {
   "cell_type": "code",
   "execution_count": 28,
   "id": "eae375f1",
   "metadata": {
    "execution": {
     "iopub.execute_input": "2021-08-17T18:28:05.028357Z",
     "iopub.status.busy": "2021-08-17T18:28:05.011900Z",
     "iopub.status.idle": "2021-08-17T18:28:06.224101Z",
     "shell.execute_reply": "2021-08-17T18:28:06.224642Z",
     "shell.execute_reply.started": "2021-08-17T18:20:20.722260Z"
    },
    "papermill": {
     "duration": 1.27347,
     "end_time": "2021-08-17T18:28:06.224823",
     "exception": false,
     "start_time": "2021-08-17T18:28:04.951353",
     "status": "completed"
    },
    "tags": []
   },
   "outputs": [
    {
     "data": {
      "text/plain": "<Figure size 1080x360 with 1 Axes>",
      "image/png": "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\n"
     },
     "metadata": {
      "needs_background": "light"
     },
     "output_type": "display_data"
    }
   ],
   "source": [
    "plt.figure(figsize=(15,5))\n",
    "plt.xticks(rotation=\"90\")\n",
    "sb.countplot(x=\"Profession\", data=train)\n",
    "plt.show()"
   ]
  },
  {
   "cell_type": "markdown",
   "id": "bd02f205",
   "metadata": {
    "papermill": {
     "duration": 0.055938,
     "end_time": "2021-08-17T18:28:06.338370",
     "exception": false,
     "start_time": "2021-08-17T18:28:06.282432",
     "status": "completed"
    },
    "tags": []
   },
   "source": [
    "- Histogram"
   ]
  },
  {
   "cell_type": "code",
   "execution_count": 29,
   "id": "22695501",
   "metadata": {
    "execution": {
     "iopub.execute_input": "2021-08-17T18:28:06.474291Z",
     "iopub.status.busy": "2021-08-17T18:28:06.473603Z",
     "iopub.status.idle": "2021-08-17T18:28:06.614899Z",
     "shell.execute_reply": "2021-08-17T18:28:06.615396Z",
     "shell.execute_reply.started": "2021-08-17T18:20:21.999772Z"
    },
    "papermill": {
     "duration": 0.221023,
     "end_time": "2021-08-17T18:28:06.615561",
     "exception": false,
     "start_time": "2021-08-17T18:28:06.394538",
     "status": "completed"
    },
    "tags": []
   },
   "outputs": [
    {
     "data": {
      "text/plain": "<Figure size 432x288 with 1 Axes>",
      "image/png": "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\n"
     },
     "metadata": {
      "needs_background": "light"
     },
     "output_type": "display_data"
    }
   ],
   "source": [
    "plt.figure()\n",
    "plt.xticks(rotation=\"60\")\n",
    "plt.hist(train[\"CURRENT_JOB_YRS\"])\n",
    "plt.show() "
   ]
  },
  {
   "cell_type": "code",
   "execution_count": 30,
   "id": "a5bd9300",
   "metadata": {
    "execution": {
     "iopub.execute_input": "2021-08-17T18:28:06.745283Z",
     "iopub.status.busy": "2021-08-17T18:28:06.744586Z",
     "iopub.status.idle": "2021-08-17T18:28:06.747578Z",
     "shell.execute_reply": "2021-08-17T18:28:06.748063Z",
     "shell.execute_reply.started": "2021-08-17T18:20:22.185244Z"
    },
    "papermill": {
     "duration": 0.075483,
     "end_time": "2021-08-17T18:28:06.748224",
     "exception": false,
     "start_time": "2021-08-17T18:28:06.672741",
     "status": "completed"
    },
    "tags": []
   },
   "outputs": [
    {
     "data": {
      "text/plain": "   Id   Income  Age  Experience Married/Single House_Ownership Car_Ownership  \\\n0   1  1303834   23           3         single          rented            no   \n1   2  7574516   40          10         single          rented            no   \n2   3  3991815   66           4        married          rented            no   \n3   4  6256451   41           2         single          rented           yes   \n4   5  5768871   47          11         single          rented            no   \n\n            Profession                 CITY           STATE  CURRENT_JOB_YRS  \\\n0  Mechanical_engineer                 Rewa  Madhya_Pradesh                3   \n1   Software_Developer             Parbhani     Maharashtra                9   \n2     Technical_writer            Alappuzha          Kerala                4   \n3   Software_Developer          Bhubaneswar          Odisha                2   \n4        Civil_servant  Tiruchirappalli[10]      Tamil_Nadu                3   \n\n   CURRENT_HOUSE_YRS  Risk_Flag  \n0                 13          0  \n1                 13          0  \n2                 10          0  \n3                 12          1  \n4                 14          1  ",
      "text/html": "<div>\n<style scoped>\n    .dataframe tbody tr th:only-of-type {\n        vertical-align: middle;\n    }\n\n    .dataframe tbody tr th {\n        vertical-align: top;\n    }\n\n    .dataframe thead th {\n        text-align: right;\n    }\n</style>\n<table border=\"1\" class=\"dataframe\">\n  <thead>\n    <tr style=\"text-align: right;\">\n      <th></th>\n      <th>Id</th>\n      <th>Income</th>\n      <th>Age</th>\n      <th>Experience</th>\n      <th>Married/Single</th>\n      <th>House_Ownership</th>\n      <th>Car_Ownership</th>\n      <th>Profession</th>\n      <th>CITY</th>\n      <th>STATE</th>\n      <th>CURRENT_JOB_YRS</th>\n      <th>CURRENT_HOUSE_YRS</th>\n      <th>Risk_Flag</th>\n    </tr>\n  </thead>\n  <tbody>\n    <tr>\n      <th>0</th>\n      <td>1</td>\n      <td>1303834</td>\n      <td>23</td>\n      <td>3</td>\n      <td>single</td>\n      <td>rented</td>\n      <td>no</td>\n      <td>Mechanical_engineer</td>\n      <td>Rewa</td>\n      <td>Madhya_Pradesh</td>\n      <td>3</td>\n      <td>13</td>\n      <td>0</td>\n    </tr>\n    <tr>\n      <th>1</th>\n      <td>2</td>\n      <td>7574516</td>\n      <td>40</td>\n      <td>10</td>\n      <td>single</td>\n      <td>rented</td>\n      <td>no</td>\n      <td>Software_Developer</td>\n      <td>Parbhani</td>\n      <td>Maharashtra</td>\n      <td>9</td>\n      <td>13</td>\n      <td>0</td>\n    </tr>\n    <tr>\n      <th>2</th>\n      <td>3</td>\n      <td>3991815</td>\n      <td>66</td>\n      <td>4</td>\n      <td>married</td>\n      <td>rented</td>\n      <td>no</td>\n      <td>Technical_writer</td>\n      <td>Alappuzha</td>\n      <td>Kerala</td>\n      <td>4</td>\n      <td>10</td>\n      <td>0</td>\n    </tr>\n    <tr>\n      <th>3</th>\n      <td>4</td>\n      <td>6256451</td>\n      <td>41</td>\n      <td>2</td>\n      <td>single</td>\n      <td>rented</td>\n      <td>yes</td>\n      <td>Software_Developer</td>\n      <td>Bhubaneswar</td>\n      <td>Odisha</td>\n      <td>2</td>\n      <td>12</td>\n      <td>1</td>\n    </tr>\n    <tr>\n      <th>4</th>\n      <td>5</td>\n      <td>5768871</td>\n      <td>47</td>\n      <td>11</td>\n      <td>single</td>\n      <td>rented</td>\n      <td>no</td>\n      <td>Civil_servant</td>\n      <td>Tiruchirappalli[10]</td>\n      <td>Tamil_Nadu</td>\n      <td>3</td>\n      <td>14</td>\n      <td>1</td>\n    </tr>\n  </tbody>\n</table>\n</div>"
     },
     "execution_count": 30,
     "metadata": {},
     "output_type": "execute_result"
    }
   ],
   "source": [
    "train.head()"
   ]
  },
  {
   "cell_type": "markdown",
   "id": "7fb9b59d",
   "metadata": {
    "papermill": {
     "duration": 0.058317,
     "end_time": "2021-08-17T18:28:06.864516",
     "exception": false,
     "start_time": "2021-08-17T18:28:06.806199",
     "status": "completed"
    },
    "tags": []
   },
   "source": [
    "## Label Encoding"
   ]
  },
  {
   "cell_type": "code",
   "execution_count": 31,
   "id": "54186be4",
   "metadata": {
    "execution": {
     "iopub.execute_input": "2021-08-17T18:28:06.983194Z",
     "iopub.status.busy": "2021-08-17T18:28:06.982619Z",
     "iopub.status.idle": "2021-08-17T18:28:07.086402Z",
     "shell.execute_reply": "2021-08-17T18:28:07.086927Z",
     "shell.execute_reply.started": "2021-08-17T18:20:22.203047Z"
    },
    "papermill": {
     "duration": 0.165226,
     "end_time": "2021-08-17T18:28:07.087108",
     "exception": false,
     "start_time": "2021-08-17T18:28:06.921882",
     "status": "completed"
    },
    "tags": []
   },
   "outputs": [],
   "source": [
    "le_ms=preprocessing.LabelEncoder()\n",
    "train[\"Married/Single\"]=le_ms.fit_transform(train[\"Married/Single\"])"
   ]
  },
  {
   "cell_type": "code",
   "execution_count": 32,
   "id": "72fedeb2",
   "metadata": {
    "execution": {
     "iopub.execute_input": "2021-08-17T18:28:07.205280Z",
     "iopub.status.busy": "2021-08-17T18:28:07.204669Z",
     "iopub.status.idle": "2021-08-17T18:28:07.308334Z",
     "shell.execute_reply": "2021-08-17T18:28:07.308848Z",
     "shell.execute_reply.started": "2021-08-17T18:20:22.308267Z"
    },
    "papermill": {
     "duration": 0.16402,
     "end_time": "2021-08-17T18:28:07.309031",
     "exception": false,
     "start_time": "2021-08-17T18:28:07.145011",
     "status": "completed"
    },
    "tags": []
   },
   "outputs": [],
   "source": [
    "le_h=preprocessing.LabelEncoder()\n",
    "train[\"House_Ownership\"]=le_h.fit_transform(train[\"House_Ownership\"])"
   ]
  },
  {
   "cell_type": "code",
   "execution_count": 33,
   "id": "37395a25",
   "metadata": {
    "execution": {
     "iopub.execute_input": "2021-08-17T18:28:07.427103Z",
     "iopub.status.busy": "2021-08-17T18:28:07.426459Z",
     "iopub.status.idle": "2021-08-17T18:28:07.519662Z",
     "shell.execute_reply": "2021-08-17T18:28:07.520154Z",
     "shell.execute_reply.started": "2021-08-17T18:20:22.409591Z"
    },
    "papermill": {
     "duration": 0.153953,
     "end_time": "2021-08-17T18:28:07.520380",
     "exception": false,
     "start_time": "2021-08-17T18:28:07.366427",
     "status": "completed"
    },
    "tags": []
   },
   "outputs": [],
   "source": [
    "le_c=preprocessing.LabelEncoder()\n",
    "train[\"Car_Ownership\"]=le_c.fit_transform(train[\"Car_Ownership\"])"
   ]
  },
  {
   "cell_type": "markdown",
   "id": "a396b47c",
   "metadata": {
    "papermill": {
     "duration": 0.0569,
     "end_time": "2021-08-17T18:28:07.641025",
     "exception": false,
     "start_time": "2021-08-17T18:28:07.584125",
     "status": "completed"
    },
    "tags": []
   },
   "source": [
    "## New traning data"
   ]
  },
  {
   "cell_type": "code",
   "execution_count": 34,
   "id": "f56a3af3",
   "metadata": {
    "execution": {
     "iopub.execute_input": "2021-08-17T18:28:07.758332Z",
     "iopub.status.busy": "2021-08-17T18:28:07.757710Z",
     "iopub.status.idle": "2021-08-17T18:28:07.771548Z",
     "shell.execute_reply": "2021-08-17T18:28:07.771999Z",
     "shell.execute_reply.started": "2021-08-17T18:20:22.509591Z"
    },
    "papermill": {
     "duration": 0.074119,
     "end_time": "2021-08-17T18:28:07.772183",
     "exception": false,
     "start_time": "2021-08-17T18:28:07.698064",
     "status": "completed"
    },
    "tags": []
   },
   "outputs": [
    {
     "data": {
      "text/plain": "   Id   Income  Age  Experience  Married/Single  House_Ownership  \\\n0   1  1303834   23           3               1                2   \n1   2  7574516   40          10               1                2   \n2   3  3991815   66           4               0                2   \n3   4  6256451   41           2               1                2   \n4   5  5768871   47          11               1                2   \n\n   Car_Ownership           Profession                 CITY           STATE  \\\n0              0  Mechanical_engineer                 Rewa  Madhya_Pradesh   \n1              0   Software_Developer             Parbhani     Maharashtra   \n2              0     Technical_writer            Alappuzha          Kerala   \n3              1   Software_Developer          Bhubaneswar          Odisha   \n4              0        Civil_servant  Tiruchirappalli[10]      Tamil_Nadu   \n\n   CURRENT_JOB_YRS  CURRENT_HOUSE_YRS  Risk_Flag  \n0                3                 13          0  \n1                9                 13          0  \n2                4                 10          0  \n3                2                 12          1  \n4                3                 14          1  ",
      "text/html": "<div>\n<style scoped>\n    .dataframe tbody tr th:only-of-type {\n        vertical-align: middle;\n    }\n\n    .dataframe tbody tr th {\n        vertical-align: top;\n    }\n\n    .dataframe thead th {\n        text-align: right;\n    }\n</style>\n<table border=\"1\" class=\"dataframe\">\n  <thead>\n    <tr style=\"text-align: right;\">\n      <th></th>\n      <th>Id</th>\n      <th>Income</th>\n      <th>Age</th>\n      <th>Experience</th>\n      <th>Married/Single</th>\n      <th>House_Ownership</th>\n      <th>Car_Ownership</th>\n      <th>Profession</th>\n      <th>CITY</th>\n      <th>STATE</th>\n      <th>CURRENT_JOB_YRS</th>\n      <th>CURRENT_HOUSE_YRS</th>\n      <th>Risk_Flag</th>\n    </tr>\n  </thead>\n  <tbody>\n    <tr>\n      <th>0</th>\n      <td>1</td>\n      <td>1303834</td>\n      <td>23</td>\n      <td>3</td>\n      <td>1</td>\n      <td>2</td>\n      <td>0</td>\n      <td>Mechanical_engineer</td>\n      <td>Rewa</td>\n      <td>Madhya_Pradesh</td>\n      <td>3</td>\n      <td>13</td>\n      <td>0</td>\n    </tr>\n    <tr>\n      <th>1</th>\n      <td>2</td>\n      <td>7574516</td>\n      <td>40</td>\n      <td>10</td>\n      <td>1</td>\n      <td>2</td>\n      <td>0</td>\n      <td>Software_Developer</td>\n      <td>Parbhani</td>\n      <td>Maharashtra</td>\n      <td>9</td>\n      <td>13</td>\n      <td>0</td>\n    </tr>\n    <tr>\n      <th>2</th>\n      <td>3</td>\n      <td>3991815</td>\n      <td>66</td>\n      <td>4</td>\n      <td>0</td>\n      <td>2</td>\n      <td>0</td>\n      <td>Technical_writer</td>\n      <td>Alappuzha</td>\n      <td>Kerala</td>\n      <td>4</td>\n      <td>10</td>\n      <td>0</td>\n    </tr>\n    <tr>\n      <th>3</th>\n      <td>4</td>\n      <td>6256451</td>\n      <td>41</td>\n      <td>2</td>\n      <td>1</td>\n      <td>2</td>\n      <td>1</td>\n      <td>Software_Developer</td>\n      <td>Bhubaneswar</td>\n      <td>Odisha</td>\n      <td>2</td>\n      <td>12</td>\n      <td>1</td>\n    </tr>\n    <tr>\n      <th>4</th>\n      <td>5</td>\n      <td>5768871</td>\n      <td>47</td>\n      <td>11</td>\n      <td>1</td>\n      <td>2</td>\n      <td>0</td>\n      <td>Civil_servant</td>\n      <td>Tiruchirappalli[10]</td>\n      <td>Tamil_Nadu</td>\n      <td>3</td>\n      <td>14</td>\n      <td>1</td>\n    </tr>\n  </tbody>\n</table>\n</div>"
     },
     "execution_count": 34,
     "metadata": {},
     "output_type": "execute_result"
    }
   ],
   "source": [
    "train.head()"
   ]
  },
  {
   "cell_type": "markdown",
   "id": "2e52b1c4",
   "metadata": {
    "papermill": {
     "duration": 0.058311,
     "end_time": "2021-08-17T18:28:07.888425",
     "exception": false,
     "start_time": "2021-08-17T18:28:07.830114",
     "status": "completed"
    },
    "tags": []
   },
   "source": [
    "- Columns"
   ]
  },
  {
   "cell_type": "code",
   "execution_count": 35,
   "id": "2d6d680a",
   "metadata": {
    "execution": {
     "iopub.execute_input": "2021-08-17T18:28:08.007370Z",
     "iopub.status.busy": "2021-08-17T18:28:08.006759Z",
     "iopub.status.idle": "2021-08-17T18:28:08.011802Z",
     "shell.execute_reply": "2021-08-17T18:28:08.012287Z",
     "shell.execute_reply.started": "2021-08-17T18:20:22.526236Z"
    },
    "papermill": {
     "duration": 0.066324,
     "end_time": "2021-08-17T18:28:08.012445",
     "exception": false,
     "start_time": "2021-08-17T18:28:07.946121",
     "status": "completed"
    },
    "tags": []
   },
   "outputs": [
    {
     "data": {
      "text/plain": "Index(['Id', 'Income', 'Age', 'Experience', 'Married/Single',\n       'House_Ownership', 'Car_Ownership', 'Profession', 'CITY', 'STATE',\n       'CURRENT_JOB_YRS', 'CURRENT_HOUSE_YRS', 'Risk_Flag'],\n      dtype='object')"
     },
     "execution_count": 35,
     "metadata": {},
     "output_type": "execute_result"
    }
   ],
   "source": [
    "train.columns"
   ]
  },
  {
   "cell_type": "markdown",
   "id": "83bedde5",
   "metadata": {
    "papermill": {
     "duration": 0.058875,
     "end_time": "2021-08-17T18:28:08.129680",
     "exception": false,
     "start_time": "2021-08-17T18:28:08.070805",
     "status": "completed"
    },
    "tags": []
   },
   "source": [
    "## Splitting of data"
   ]
  },
  {
   "cell_type": "code",
   "execution_count": 36,
   "id": "f7900f78",
   "metadata": {
    "execution": {
     "iopub.execute_input": "2021-08-17T18:28:08.249284Z",
     "iopub.status.busy": "2021-08-17T18:28:08.248682Z",
     "iopub.status.idle": "2021-08-17T18:28:08.277149Z",
     "shell.execute_reply": "2021-08-17T18:28:08.277643Z",
     "shell.execute_reply.started": "2021-08-17T18:20:22.541855Z"
    },
    "papermill": {
     "duration": 0.089905,
     "end_time": "2021-08-17T18:28:08.277828",
     "exception": false,
     "start_time": "2021-08-17T18:28:08.187923",
     "status": "completed"
    },
    "tags": []
   },
   "outputs": [],
   "source": [
    "X=train[['Income', 'Age', 'Experience', 'Married/Single',\n",
    "       'House_Ownership', 'Car_Ownership',\n",
    "       'CURRENT_JOB_YRS', 'CURRENT_HOUSE_YRS']]\n",
    "y=train['Risk_Flag']"
   ]
  },
  {
   "cell_type": "code",
   "execution_count": 37,
   "id": "74f402d7",
   "metadata": {
    "execution": {
     "iopub.execute_input": "2021-08-17T18:28:08.397947Z",
     "iopub.status.busy": "2021-08-17T18:28:08.397276Z",
     "iopub.status.idle": "2021-08-17T18:28:08.447667Z",
     "shell.execute_reply": "2021-08-17T18:28:08.447071Z",
     "shell.execute_reply.started": "2021-08-17T18:20:22.577973Z"
    },
    "papermill": {
     "duration": 0.111134,
     "end_time": "2021-08-17T18:28:08.447827",
     "exception": false,
     "start_time": "2021-08-17T18:28:08.336693",
     "status": "completed"
    },
    "tags": []
   },
   "outputs": [
    {
     "name": "stdout",
     "output_type": "stream",
     "text": [
      "(176400, 8)\n",
      "(75600, 8)\n",
      "(176400,)\n",
      "(75600,)\n"
     ]
    }
   ],
   "source": [
    "train_x, test_x, train_y, test_y=train_test_split(X, y, test_size=0.30, random_state=0)\n",
    "print(train_x.shape)\n",
    "print(test_x.shape)\n",
    "print(train_y.shape)\n",
    "print(test_y.shape)"
   ]
  },
  {
   "cell_type": "markdown",
   "id": "2d440632",
   "metadata": {
    "papermill": {
     "duration": 0.06023,
     "end_time": "2021-08-17T18:28:08.567395",
     "exception": false,
     "start_time": "2021-08-17T18:28:08.507165",
     "status": "completed"
    },
    "tags": []
   },
   "source": [
    "## "
   ]
  },
  {
   "cell_type": "markdown",
   "id": "42fbf314",
   "metadata": {
    "papermill": {
     "duration": 0.057874,
     "end_time": "2021-08-17T18:28:08.683755",
     "exception": false,
     "start_time": "2021-08-17T18:28:08.625881",
     "status": "completed"
    },
    "tags": []
   },
   "source": [
    "## Logistic Regression"
   ]
  },
  {
   "cell_type": "code",
   "execution_count": 38,
   "id": "f8c9d96d",
   "metadata": {
    "execution": {
     "iopub.execute_input": "2021-08-17T18:28:08.806687Z",
     "iopub.status.busy": "2021-08-17T18:28:08.806023Z",
     "iopub.status.idle": "2021-08-17T18:28:09.421300Z",
     "shell.execute_reply": "2021-08-17T18:28:09.422680Z",
     "shell.execute_reply.started": "2021-08-17T18:20:22.622501Z"
    },
    "papermill": {
     "duration": 0.681193,
     "end_time": "2021-08-17T18:28:09.422947",
     "exception": false,
     "start_time": "2021-08-17T18:28:08.741754",
     "status": "completed"
    },
    "tags": []
   },
   "outputs": [],
   "source": [
    "model=LogisticRegression().fit(train_x, train_y)\n",
    "pred=model.predict(test_x)"
   ]
  },
  {
   "cell_type": "markdown",
   "id": "c8ef0dab",
   "metadata": {
    "papermill": {
     "duration": 0.064701,
     "end_time": "2021-08-17T18:28:09.591013",
     "exception": false,
     "start_time": "2021-08-17T18:28:09.526312",
     "status": "completed"
    },
    "tags": []
   },
   "source": [
    "## Classification report"
   ]
  },
  {
   "cell_type": "code",
   "execution_count": 39,
   "id": "cba852d7",
   "metadata": {
    "execution": {
     "iopub.execute_input": "2021-08-17T18:28:09.712909Z",
     "iopub.status.busy": "2021-08-17T18:28:09.711965Z",
     "iopub.status.idle": "2021-08-17T18:28:09.840787Z",
     "shell.execute_reply": "2021-08-17T18:28:09.841298Z",
     "shell.execute_reply.started": "2021-08-17T18:20:23.100779Z"
    },
    "papermill": {
     "duration": 0.192422,
     "end_time": "2021-08-17T18:28:09.841469",
     "exception": false,
     "start_time": "2021-08-17T18:28:09.649047",
     "status": "completed"
    },
    "tags": []
   },
   "outputs": [
    {
     "name": "stdout",
     "output_type": "stream",
     "text": [
      "              precision    recall  f1-score   support\n",
      "\n",
      "           0       0.88      1.00      0.93     66338\n",
      "           1       0.00      0.00      0.00      9262\n",
      "\n",
      "    accuracy                           0.88     75600\n",
      "   macro avg       0.44      0.50      0.47     75600\n",
      "weighted avg       0.77      0.88      0.82     75600\n",
      "\n"
     ]
    },
    {
     "name": "stderr",
     "output_type": "stream",
     "text": [
      "c:\\users\\user\\python-projects\\venv\\lib\\site-packages\\sklearn\\metrics\\_classification.py:1245: UndefinedMetricWarning: Precision and F-score are ill-defined and being set to 0.0 in labels with no predicted samples. Use `zero_division` parameter to control this behavior.\n",
      "  _warn_prf(average, modifier, msg_start, len(result))\n",
      "c:\\users\\user\\python-projects\\venv\\lib\\site-packages\\sklearn\\metrics\\_classification.py:1245: UndefinedMetricWarning: Precision and F-score are ill-defined and being set to 0.0 in labels with no predicted samples. Use `zero_division` parameter to control this behavior.\n",
      "  _warn_prf(average, modifier, msg_start, len(result))\n",
      "c:\\users\\user\\python-projects\\venv\\lib\\site-packages\\sklearn\\metrics\\_classification.py:1245: UndefinedMetricWarning: Precision and F-score are ill-defined and being set to 0.0 in labels with no predicted samples. Use `zero_division` parameter to control this behavior.\n",
      "  _warn_prf(average, modifier, msg_start, len(result))\n"
     ]
    }
   ],
   "source": [
    "print(classification_report(test_y,pred))"
   ]
  },
  {
   "cell_type": "markdown",
   "id": "c19a7ca3",
   "metadata": {
    "papermill": {
     "duration": 0.058498,
     "end_time": "2021-08-17T18:28:09.959020",
     "exception": false,
     "start_time": "2021-08-17T18:28:09.900522",
     "status": "completed"
    },
    "tags": []
   },
   "source": [
    "## Accuracy score"
   ]
  },
  {
   "cell_type": "code",
   "execution_count": 40,
   "id": "840e4aeb",
   "metadata": {
    "execution": {
     "iopub.execute_input": "2021-08-17T18:28:10.082743Z",
     "iopub.status.busy": "2021-08-17T18:28:10.082104Z",
     "iopub.status.idle": "2021-08-17T18:28:10.092664Z",
     "shell.execute_reply": "2021-08-17T18:28:10.093199Z",
     "shell.execute_reply.started": "2021-08-17T18:20:23.283755Z"
    },
    "papermill": {
     "duration": 0.074554,
     "end_time": "2021-08-17T18:28:10.093406",
     "exception": false,
     "start_time": "2021-08-17T18:28:10.018852",
     "status": "completed"
    },
    "tags": []
   },
   "outputs": [
    {
     "name": "stdout",
     "output_type": "stream",
     "text": [
      "0.8774867724867725\n"
     ]
    }
   ],
   "source": [
    "print(accuracy_score(test_y, pred))"
   ]
  },
  {
   "cell_type": "code",
   "execution_count": 41,
   "id": "c4ad8c65",
   "metadata": {
    "execution": {
     "iopub.execute_input": "2021-08-17T18:28:10.228132Z",
     "iopub.status.busy": "2021-08-17T18:28:10.227165Z",
     "iopub.status.idle": "2021-08-17T18:28:10.231451Z",
     "shell.execute_reply": "2021-08-17T18:28:10.230834Z",
     "shell.execute_reply.started": "2021-08-17T18:20:23.297801Z"
    },
    "papermill": {
     "duration": 0.078706,
     "end_time": "2021-08-17T18:28:10.231590",
     "exception": false,
     "start_time": "2021-08-17T18:28:10.152884",
     "status": "completed"
    },
    "tags": []
   },
   "outputs": [
    {
     "data": {
      "text/plain": "   ID   Income  Age  Experience Married/Single House_Ownership Car_Ownership  \\\n0   1  7393090   59          19         single          rented            no   \n1   2  1215004   25           5         single          rented            no   \n2   3  8901342   50          12         single          rented            no   \n3   4  1944421   49           9        married          rented           yes   \n4   5    13429   25          18         single          rented           yes   \n\n    Profession        CITY        STATE  CURRENT_JOB_YRS  CURRENT_HOUSE_YRS  \n0    Geologist       Malda  West Bengal                4                 13  \n1  Firefighter       Jalna  Maharashtra                5                 10  \n2       Lawyer       Thane  Maharashtra                9                 14  \n3      Analyst       Latur  Maharashtra                3                 12  \n4     Comedian  Berhampore  West Bengal               13                 11  ",
      "text/html": "<div>\n<style scoped>\n    .dataframe tbody tr th:only-of-type {\n        vertical-align: middle;\n    }\n\n    .dataframe tbody tr th {\n        vertical-align: top;\n    }\n\n    .dataframe thead th {\n        text-align: right;\n    }\n</style>\n<table border=\"1\" class=\"dataframe\">\n  <thead>\n    <tr style=\"text-align: right;\">\n      <th></th>\n      <th>ID</th>\n      <th>Income</th>\n      <th>Age</th>\n      <th>Experience</th>\n      <th>Married/Single</th>\n      <th>House_Ownership</th>\n      <th>Car_Ownership</th>\n      <th>Profession</th>\n      <th>CITY</th>\n      <th>STATE</th>\n      <th>CURRENT_JOB_YRS</th>\n      <th>CURRENT_HOUSE_YRS</th>\n    </tr>\n  </thead>\n  <tbody>\n    <tr>\n      <th>0</th>\n      <td>1</td>\n      <td>7393090</td>\n      <td>59</td>\n      <td>19</td>\n      <td>single</td>\n      <td>rented</td>\n      <td>no</td>\n      <td>Geologist</td>\n      <td>Malda</td>\n      <td>West Bengal</td>\n      <td>4</td>\n      <td>13</td>\n    </tr>\n    <tr>\n      <th>1</th>\n      <td>2</td>\n      <td>1215004</td>\n      <td>25</td>\n      <td>5</td>\n      <td>single</td>\n      <td>rented</td>\n      <td>no</td>\n      <td>Firefighter</td>\n      <td>Jalna</td>\n      <td>Maharashtra</td>\n      <td>5</td>\n      <td>10</td>\n    </tr>\n    <tr>\n      <th>2</th>\n      <td>3</td>\n      <td>8901342</td>\n      <td>50</td>\n      <td>12</td>\n      <td>single</td>\n      <td>rented</td>\n      <td>no</td>\n      <td>Lawyer</td>\n      <td>Thane</td>\n      <td>Maharashtra</td>\n      <td>9</td>\n      <td>14</td>\n    </tr>\n    <tr>\n      <th>3</th>\n      <td>4</td>\n      <td>1944421</td>\n      <td>49</td>\n      <td>9</td>\n      <td>married</td>\n      <td>rented</td>\n      <td>yes</td>\n      <td>Analyst</td>\n      <td>Latur</td>\n      <td>Maharashtra</td>\n      <td>3</td>\n      <td>12</td>\n    </tr>\n    <tr>\n      <th>4</th>\n      <td>5</td>\n      <td>13429</td>\n      <td>25</td>\n      <td>18</td>\n      <td>single</td>\n      <td>rented</td>\n      <td>yes</td>\n      <td>Comedian</td>\n      <td>Berhampore</td>\n      <td>West Bengal</td>\n      <td>13</td>\n      <td>11</td>\n    </tr>\n  </tbody>\n</table>\n</div>"
     },
     "execution_count": 41,
     "metadata": {},
     "output_type": "execute_result"
    }
   ],
   "source": [
    "test.head()"
   ]
  },
  {
   "cell_type": "markdown",
   "id": "3d48d7b9",
   "metadata": {
    "papermill": {
     "duration": 0.059999,
     "end_time": "2021-08-17T18:28:10.353983",
     "exception": false,
     "start_time": "2021-08-17T18:28:10.293984",
     "status": "completed"
    },
    "tags": []
   },
   "source": [
    "## Label encoding\n",
    "- Test data"
   ]
  },
  {
   "cell_type": "code",
   "execution_count": 42,
   "id": "d3380bd7",
   "metadata": {
    "execution": {
     "iopub.execute_input": "2021-08-17T18:28:10.500375Z",
     "iopub.status.busy": "2021-08-17T18:28:10.490125Z",
     "iopub.status.idle": "2021-08-17T18:28:10.514366Z",
     "shell.execute_reply": "2021-08-17T18:28:10.514839Z",
     "shell.execute_reply.started": "2021-08-17T18:20:23.319935Z"
    },
    "papermill": {
     "duration": 0.09979,
     "end_time": "2021-08-17T18:28:10.515030",
     "exception": false,
     "start_time": "2021-08-17T18:28:10.415240",
     "status": "completed"
    },
    "tags": []
   },
   "outputs": [],
   "source": [
    "le_mst=preprocessing.LabelEncoder()\n",
    "test[\"Married/Single\"]=le_mst.fit_transform(test[\"Married/Single\"])\n",
    "\n",
    "le_ht=preprocessing.LabelEncoder()\n",
    "test[\"House_Ownership\"]=le_ht.fit_transform(test[\"House_Ownership\"])\n",
    "\n",
    "le_ct=preprocessing.LabelEncoder()\n",
    "test[\"Car_Ownership\"]=le_ct.fit_transform(test[\"Car_Ownership\"])"
   ]
  },
  {
   "cell_type": "markdown",
   "id": "0cc50977",
   "metadata": {
    "papermill": {
     "duration": 0.078562,
     "end_time": "2021-08-17T18:28:10.658409",
     "exception": false,
     "start_time": "2021-08-17T18:28:10.579847",
     "status": "completed"
    },
    "tags": []
   },
   "source": [
    "## New test data"
   ]
  },
  {
   "cell_type": "code",
   "execution_count": 43,
   "id": "59b05c20",
   "metadata": {
    "execution": {
     "iopub.execute_input": "2021-08-17T18:28:10.808190Z",
     "iopub.status.busy": "2021-08-17T18:28:10.807139Z",
     "iopub.status.idle": "2021-08-17T18:28:10.818342Z",
     "shell.execute_reply": "2021-08-17T18:28:10.818857Z",
     "shell.execute_reply.started": "2021-08-17T18:20:23.360070Z"
    },
    "papermill": {
     "duration": 0.085813,
     "end_time": "2021-08-17T18:28:10.819037",
     "exception": false,
     "start_time": "2021-08-17T18:28:10.733224",
     "status": "completed"
    },
    "tags": []
   },
   "outputs": [
    {
     "data": {
      "text/plain": "   ID   Income  Age  Experience  Married/Single  House_Ownership  \\\n0   1  7393090   59          19               1                2   \n1   2  1215004   25           5               1                2   \n2   3  8901342   50          12               1                2   \n3   4  1944421   49           9               0                2   \n4   5    13429   25          18               1                2   \n\n   Car_Ownership   Profession        CITY        STATE  CURRENT_JOB_YRS  \\\n0              0    Geologist       Malda  West Bengal                4   \n1              0  Firefighter       Jalna  Maharashtra                5   \n2              0       Lawyer       Thane  Maharashtra                9   \n3              1      Analyst       Latur  Maharashtra                3   \n4              1     Comedian  Berhampore  West Bengal               13   \n\n   CURRENT_HOUSE_YRS  \n0                 13  \n1                 10  \n2                 14  \n3                 12  \n4                 11  ",
      "text/html": "<div>\n<style scoped>\n    .dataframe tbody tr th:only-of-type {\n        vertical-align: middle;\n    }\n\n    .dataframe tbody tr th {\n        vertical-align: top;\n    }\n\n    .dataframe thead th {\n        text-align: right;\n    }\n</style>\n<table border=\"1\" class=\"dataframe\">\n  <thead>\n    <tr style=\"text-align: right;\">\n      <th></th>\n      <th>ID</th>\n      <th>Income</th>\n      <th>Age</th>\n      <th>Experience</th>\n      <th>Married/Single</th>\n      <th>House_Ownership</th>\n      <th>Car_Ownership</th>\n      <th>Profession</th>\n      <th>CITY</th>\n      <th>STATE</th>\n      <th>CURRENT_JOB_YRS</th>\n      <th>CURRENT_HOUSE_YRS</th>\n    </tr>\n  </thead>\n  <tbody>\n    <tr>\n      <th>0</th>\n      <td>1</td>\n      <td>7393090</td>\n      <td>59</td>\n      <td>19</td>\n      <td>1</td>\n      <td>2</td>\n      <td>0</td>\n      <td>Geologist</td>\n      <td>Malda</td>\n      <td>West Bengal</td>\n      <td>4</td>\n      <td>13</td>\n    </tr>\n    <tr>\n      <th>1</th>\n      <td>2</td>\n      <td>1215004</td>\n      <td>25</td>\n      <td>5</td>\n      <td>1</td>\n      <td>2</td>\n      <td>0</td>\n      <td>Firefighter</td>\n      <td>Jalna</td>\n      <td>Maharashtra</td>\n      <td>5</td>\n      <td>10</td>\n    </tr>\n    <tr>\n      <th>2</th>\n      <td>3</td>\n      <td>8901342</td>\n      <td>50</td>\n      <td>12</td>\n      <td>1</td>\n      <td>2</td>\n      <td>0</td>\n      <td>Lawyer</td>\n      <td>Thane</td>\n      <td>Maharashtra</td>\n      <td>9</td>\n      <td>14</td>\n    </tr>\n    <tr>\n      <th>3</th>\n      <td>4</td>\n      <td>1944421</td>\n      <td>49</td>\n      <td>9</td>\n      <td>0</td>\n      <td>2</td>\n      <td>1</td>\n      <td>Analyst</td>\n      <td>Latur</td>\n      <td>Maharashtra</td>\n      <td>3</td>\n      <td>12</td>\n    </tr>\n    <tr>\n      <th>4</th>\n      <td>5</td>\n      <td>13429</td>\n      <td>25</td>\n      <td>18</td>\n      <td>1</td>\n      <td>2</td>\n      <td>1</td>\n      <td>Comedian</td>\n      <td>Berhampore</td>\n      <td>West Bengal</td>\n      <td>13</td>\n      <td>11</td>\n    </tr>\n  </tbody>\n</table>\n</div>"
     },
     "execution_count": 43,
     "metadata": {},
     "output_type": "execute_result"
    }
   ],
   "source": [
    "test.head()"
   ]
  },
  {
   "cell_type": "markdown",
   "id": "8c45c379",
   "metadata": {
    "papermill": {
     "duration": 0.066939,
     "end_time": "2021-08-17T18:28:10.954451",
     "exception": false,
     "start_time": "2021-08-17T18:28:10.887512",
     "status": "completed"
    },
    "tags": []
   },
   "source": [
    "- Columns of test data"
   ]
  },
  {
   "cell_type": "code",
   "execution_count": 44,
   "id": "791673d1",
   "metadata": {
    "execution": {
     "iopub.execute_input": "2021-08-17T18:28:11.086440Z",
     "iopub.status.busy": "2021-08-17T18:28:11.085478Z",
     "iopub.status.idle": "2021-08-17T18:28:11.091424Z",
     "shell.execute_reply": "2021-08-17T18:28:11.092031Z",
     "shell.execute_reply.started": "2021-08-17T18:20:23.378562Z"
    },
    "papermill": {
     "duration": 0.071511,
     "end_time": "2021-08-17T18:28:11.092198",
     "exception": false,
     "start_time": "2021-08-17T18:28:11.020687",
     "status": "completed"
    },
    "tags": []
   },
   "outputs": [
    {
     "data": {
      "text/plain": "Index(['ID', 'Income', 'Age', 'Experience', 'Married/Single',\n       'House_Ownership', 'Car_Ownership', 'Profession', 'CITY', 'STATE',\n       'CURRENT_JOB_YRS', 'CURRENT_HOUSE_YRS'],\n      dtype='object')"
     },
     "execution_count": 44,
     "metadata": {},
     "output_type": "execute_result"
    }
   ],
   "source": [
    "test.columns"
   ]
  },
  {
   "cell_type": "markdown",
   "id": "9b2bcbde",
   "metadata": {
    "papermill": {
     "duration": 0.062425,
     "end_time": "2021-08-17T18:28:11.216300",
     "exception": false,
     "start_time": "2021-08-17T18:28:11.153875",
     "status": "completed"
    },
    "tags": []
   },
   "source": [
    "## Prediction \n",
    "- on test data"
   ]
  },
  {
   "cell_type": "code",
   "execution_count": 45,
   "id": "fc937193",
   "metadata": {
    "execution": {
     "iopub.execute_input": "2021-08-17T18:28:11.348037Z",
     "iopub.status.busy": "2021-08-17T18:28:11.347097Z",
     "iopub.status.idle": "2021-08-17T18:28:11.353819Z",
     "shell.execute_reply": "2021-08-17T18:28:11.354385Z",
     "shell.execute_reply.started": "2021-08-17T18:20:23.386774Z"
    },
    "papermill": {
     "duration": 0.073852,
     "end_time": "2021-08-17T18:28:11.354556",
     "exception": false,
     "start_time": "2021-08-17T18:28:11.280704",
     "status": "completed"
    },
    "tags": []
   },
   "outputs": [],
   "source": [
    "test_y_p=test[['Income', 'Age', 'Experience', 'Married/Single',\n",
    "       'House_Ownership', 'Car_Ownership',\n",
    "       'CURRENT_JOB_YRS', 'CURRENT_HOUSE_YRS']]"
   ]
  },
  {
   "cell_type": "code",
   "execution_count": 46,
   "id": "1e515831",
   "metadata": {
    "execution": {
     "iopub.execute_input": "2021-08-17T18:28:11.482647Z",
     "iopub.status.busy": "2021-08-17T18:28:11.481714Z",
     "iopub.status.idle": "2021-08-17T18:28:11.497599Z",
     "shell.execute_reply": "2021-08-17T18:28:11.498445Z",
     "shell.execute_reply.started": "2021-08-17T18:20:23.400072Z"
    },
    "papermill": {
     "duration": 0.080573,
     "end_time": "2021-08-17T18:28:11.498712",
     "exception": false,
     "start_time": "2021-08-17T18:28:11.418139",
     "status": "completed"
    },
    "tags": []
   },
   "outputs": [],
   "source": [
    "pred_p=model.predict(test_y_p)"
   ]
  },
  {
   "cell_type": "markdown",
   "id": "80df7557",
   "metadata": {
    "papermill": {
     "duration": 0.06142,
     "end_time": "2021-08-17T18:28:11.668146",
     "exception": false,
     "start_time": "2021-08-17T18:28:11.606726",
     "status": "completed"
    },
    "tags": []
   },
   "source": [
    "- Adding predicted value to data frame "
   ]
  },
  {
   "cell_type": "code",
   "execution_count": 47,
   "id": "d6718711",
   "metadata": {
    "execution": {
     "iopub.execute_input": "2021-08-17T18:28:11.798243Z",
     "iopub.status.busy": "2021-08-17T18:28:11.797240Z",
     "iopub.status.idle": "2021-08-17T18:28:11.799924Z",
     "shell.execute_reply": "2021-08-17T18:28:11.800439Z",
     "shell.execute_reply.started": "2021-08-17T18:20:23.413509Z"
    },
    "papermill": {
     "duration": 0.070115,
     "end_time": "2021-08-17T18:28:11.800623",
     "exception": false,
     "start_time": "2021-08-17T18:28:11.730508",
     "status": "completed"
    },
    "tags": []
   },
   "outputs": [],
   "source": [
    "Risk_flagP=pd.DataFrame(pred_p)"
   ]
  },
  {
   "cell_type": "code",
   "execution_count": 48,
   "id": "e0a60723",
   "metadata": {
    "execution": {
     "iopub.execute_input": "2021-08-17T18:28:11.930173Z",
     "iopub.status.busy": "2021-08-17T18:28:11.929528Z",
     "iopub.status.idle": "2021-08-17T18:28:11.932435Z",
     "shell.execute_reply": "2021-08-17T18:28:11.932885Z",
     "shell.execute_reply.started": "2021-08-17T18:20:23.424312Z"
    },
    "papermill": {
     "duration": 0.070175,
     "end_time": "2021-08-17T18:28:11.933052",
     "exception": false,
     "start_time": "2021-08-17T18:28:11.862877",
     "status": "completed"
    },
    "tags": []
   },
   "outputs": [],
   "source": [
    "test[\"Risk_FlagP\"]=Risk_flagP"
   ]
  },
  {
   "cell_type": "code",
   "execution_count": 49,
   "id": "e2e35aaa",
   "metadata": {
    "execution": {
     "iopub.execute_input": "2021-08-17T18:28:12.072425Z",
     "iopub.status.busy": "2021-08-17T18:28:12.071756Z",
     "iopub.status.idle": "2021-08-17T18:28:12.074846Z",
     "shell.execute_reply": "2021-08-17T18:28:12.075372Z",
     "shell.execute_reply.started": "2021-08-17T18:20:23.435574Z"
    },
    "papermill": {
     "duration": 0.080059,
     "end_time": "2021-08-17T18:28:12.075557",
     "exception": false,
     "start_time": "2021-08-17T18:28:11.995498",
     "status": "completed"
    },
    "tags": []
   },
   "outputs": [
    {
     "data": {
      "text/plain": "   ID   Income  Age  Experience  Married/Single  House_Ownership  \\\n0   1  7393090   59          19               1                2   \n1   2  1215004   25           5               1                2   \n2   3  8901342   50          12               1                2   \n3   4  1944421   49           9               0                2   \n4   5    13429   25          18               1                2   \n\n   Car_Ownership   Profession        CITY        STATE  CURRENT_JOB_YRS  \\\n0              0    Geologist       Malda  West Bengal                4   \n1              0  Firefighter       Jalna  Maharashtra                5   \n2              0       Lawyer       Thane  Maharashtra                9   \n3              1      Analyst       Latur  Maharashtra                3   \n4              1     Comedian  Berhampore  West Bengal               13   \n\n   CURRENT_HOUSE_YRS  Risk_FlagP  \n0                 13           0  \n1                 10           0  \n2                 14           0  \n3                 12           0  \n4                 11           0  ",
      "text/html": "<div>\n<style scoped>\n    .dataframe tbody tr th:only-of-type {\n        vertical-align: middle;\n    }\n\n    .dataframe tbody tr th {\n        vertical-align: top;\n    }\n\n    .dataframe thead th {\n        text-align: right;\n    }\n</style>\n<table border=\"1\" class=\"dataframe\">\n  <thead>\n    <tr style=\"text-align: right;\">\n      <th></th>\n      <th>ID</th>\n      <th>Income</th>\n      <th>Age</th>\n      <th>Experience</th>\n      <th>Married/Single</th>\n      <th>House_Ownership</th>\n      <th>Car_Ownership</th>\n      <th>Profession</th>\n      <th>CITY</th>\n      <th>STATE</th>\n      <th>CURRENT_JOB_YRS</th>\n      <th>CURRENT_HOUSE_YRS</th>\n      <th>Risk_FlagP</th>\n    </tr>\n  </thead>\n  <tbody>\n    <tr>\n      <th>0</th>\n      <td>1</td>\n      <td>7393090</td>\n      <td>59</td>\n      <td>19</td>\n      <td>1</td>\n      <td>2</td>\n      <td>0</td>\n      <td>Geologist</td>\n      <td>Malda</td>\n      <td>West Bengal</td>\n      <td>4</td>\n      <td>13</td>\n      <td>0</td>\n    </tr>\n    <tr>\n      <th>1</th>\n      <td>2</td>\n      <td>1215004</td>\n      <td>25</td>\n      <td>5</td>\n      <td>1</td>\n      <td>2</td>\n      <td>0</td>\n      <td>Firefighter</td>\n      <td>Jalna</td>\n      <td>Maharashtra</td>\n      <td>5</td>\n      <td>10</td>\n      <td>0</td>\n    </tr>\n    <tr>\n      <th>2</th>\n      <td>3</td>\n      <td>8901342</td>\n      <td>50</td>\n      <td>12</td>\n      <td>1</td>\n      <td>2</td>\n      <td>0</td>\n      <td>Lawyer</td>\n      <td>Thane</td>\n      <td>Maharashtra</td>\n      <td>9</td>\n      <td>14</td>\n      <td>0</td>\n    </tr>\n    <tr>\n      <th>3</th>\n      <td>4</td>\n      <td>1944421</td>\n      <td>49</td>\n      <td>9</td>\n      <td>0</td>\n      <td>2</td>\n      <td>1</td>\n      <td>Analyst</td>\n      <td>Latur</td>\n      <td>Maharashtra</td>\n      <td>3</td>\n      <td>12</td>\n      <td>0</td>\n    </tr>\n    <tr>\n      <th>4</th>\n      <td>5</td>\n      <td>13429</td>\n      <td>25</td>\n      <td>18</td>\n      <td>1</td>\n      <td>2</td>\n      <td>1</td>\n      <td>Comedian</td>\n      <td>Berhampore</td>\n      <td>West Bengal</td>\n      <td>13</td>\n      <td>11</td>\n      <td>0</td>\n    </tr>\n  </tbody>\n</table>\n</div>"
     },
     "execution_count": 49,
     "metadata": {},
     "output_type": "execute_result"
    }
   ],
   "source": [
    "test.head()"
   ]
  },
  {
   "cell_type": "markdown",
   "id": "bf705baa",
   "metadata": {
    "papermill": {
     "duration": 0.061485,
     "end_time": "2021-08-17T18:28:12.199679",
     "exception": false,
     "start_time": "2021-08-17T18:28:12.138194",
     "status": "completed"
    },
    "tags": []
   },
   "source": [
    "## Label Decoding"
   ]
  },
  {
   "cell_type": "code",
   "execution_count": 50,
   "id": "ef4398ad",
   "metadata": {
    "execution": {
     "iopub.execute_input": "2021-08-17T18:28:12.326940Z",
     "iopub.status.busy": "2021-08-17T18:28:12.326279Z",
     "iopub.status.idle": "2021-08-17T18:28:12.337184Z",
     "shell.execute_reply": "2021-08-17T18:28:12.336552Z",
     "shell.execute_reply.started": "2021-08-17T18:20:23.465154Z"
    },
    "papermill": {
     "duration": 0.075521,
     "end_time": "2021-08-17T18:28:12.337347",
     "exception": false,
     "start_time": "2021-08-17T18:28:12.261826",
     "status": "completed"
    },
    "tags": []
   },
   "outputs": [],
   "source": [
    "test[\"Married/Single\"]=le_mst.inverse_transform(test[\"Married/Single\"])\n",
    "\n",
    "test[\"House_Ownership\"]=le_ht.inverse_transform(test[\"House_Ownership\"])\n",
    "\n",
    "test[\"Car_Ownership\"]=le_ct.inverse_transform(test[\"Car_Ownership\"])"
   ]
  },
  {
   "cell_type": "code",
   "execution_count": 51,
   "id": "f65748f4",
   "metadata": {
    "execution": {
     "iopub.execute_input": "2021-08-17T18:28:12.465247Z",
     "iopub.status.busy": "2021-08-17T18:28:12.464512Z",
     "iopub.status.idle": "2021-08-17T18:28:12.480974Z",
     "shell.execute_reply": "2021-08-17T18:28:12.480447Z",
     "shell.execute_reply.started": "2021-08-17T18:20:23.483472Z"
    },
    "papermill": {
     "duration": 0.081881,
     "end_time": "2021-08-17T18:28:12.481113",
     "exception": false,
     "start_time": "2021-08-17T18:28:12.399232",
     "status": "completed"
    },
    "tags": []
   },
   "outputs": [
    {
     "data": {
      "text/plain": "   ID   Income  Age  Experience Married/Single House_Ownership Car_Ownership  \\\n0   1  7393090   59          19         single          rented            no   \n1   2  1215004   25           5         single          rented            no   \n2   3  8901342   50          12         single          rented            no   \n3   4  1944421   49           9        married          rented           yes   \n4   5    13429   25          18         single          rented           yes   \n\n    Profession        CITY        STATE  CURRENT_JOB_YRS  CURRENT_HOUSE_YRS  \\\n0    Geologist       Malda  West Bengal                4                 13   \n1  Firefighter       Jalna  Maharashtra                5                 10   \n2       Lawyer       Thane  Maharashtra                9                 14   \n3      Analyst       Latur  Maharashtra                3                 12   \n4     Comedian  Berhampore  West Bengal               13                 11   \n\n   Risk_FlagP  \n0           0  \n1           0  \n2           0  \n3           0  \n4           0  ",
      "text/html": "<div>\n<style scoped>\n    .dataframe tbody tr th:only-of-type {\n        vertical-align: middle;\n    }\n\n    .dataframe tbody tr th {\n        vertical-align: top;\n    }\n\n    .dataframe thead th {\n        text-align: right;\n    }\n</style>\n<table border=\"1\" class=\"dataframe\">\n  <thead>\n    <tr style=\"text-align: right;\">\n      <th></th>\n      <th>ID</th>\n      <th>Income</th>\n      <th>Age</th>\n      <th>Experience</th>\n      <th>Married/Single</th>\n      <th>House_Ownership</th>\n      <th>Car_Ownership</th>\n      <th>Profession</th>\n      <th>CITY</th>\n      <th>STATE</th>\n      <th>CURRENT_JOB_YRS</th>\n      <th>CURRENT_HOUSE_YRS</th>\n      <th>Risk_FlagP</th>\n    </tr>\n  </thead>\n  <tbody>\n    <tr>\n      <th>0</th>\n      <td>1</td>\n      <td>7393090</td>\n      <td>59</td>\n      <td>19</td>\n      <td>single</td>\n      <td>rented</td>\n      <td>no</td>\n      <td>Geologist</td>\n      <td>Malda</td>\n      <td>West Bengal</td>\n      <td>4</td>\n      <td>13</td>\n      <td>0</td>\n    </tr>\n    <tr>\n      <th>1</th>\n      <td>2</td>\n      <td>1215004</td>\n      <td>25</td>\n      <td>5</td>\n      <td>single</td>\n      <td>rented</td>\n      <td>no</td>\n      <td>Firefighter</td>\n      <td>Jalna</td>\n      <td>Maharashtra</td>\n      <td>5</td>\n      <td>10</td>\n      <td>0</td>\n    </tr>\n    <tr>\n      <th>2</th>\n      <td>3</td>\n      <td>8901342</td>\n      <td>50</td>\n      <td>12</td>\n      <td>single</td>\n      <td>rented</td>\n      <td>no</td>\n      <td>Lawyer</td>\n      <td>Thane</td>\n      <td>Maharashtra</td>\n      <td>9</td>\n      <td>14</td>\n      <td>0</td>\n    </tr>\n    <tr>\n      <th>3</th>\n      <td>4</td>\n      <td>1944421</td>\n      <td>49</td>\n      <td>9</td>\n      <td>married</td>\n      <td>rented</td>\n      <td>yes</td>\n      <td>Analyst</td>\n      <td>Latur</td>\n      <td>Maharashtra</td>\n      <td>3</td>\n      <td>12</td>\n      <td>0</td>\n    </tr>\n    <tr>\n      <th>4</th>\n      <td>5</td>\n      <td>13429</td>\n      <td>25</td>\n      <td>18</td>\n      <td>single</td>\n      <td>rented</td>\n      <td>yes</td>\n      <td>Comedian</td>\n      <td>Berhampore</td>\n      <td>West Bengal</td>\n      <td>13</td>\n      <td>11</td>\n      <td>0</td>\n    </tr>\n  </tbody>\n</table>\n</div>"
     },
     "execution_count": 51,
     "metadata": {},
     "output_type": "execute_result"
    }
   ],
   "source": [
    "test.head()"
   ]
  },
  {
   "cell_type": "markdown",
   "id": "1b513afd",
   "metadata": {
    "papermill": {
     "duration": 0.062227,
     "end_time": "2021-08-17T18:28:12.617244",
     "exception": false,
     "start_time": "2021-08-17T18:28:12.555017",
     "status": "completed"
    },
    "tags": []
   },
   "source": [
    "## Submission CSV"
   ]
  },
  {
   "cell_type": "code",
   "execution_count": 56,
   "id": "fd902d71",
   "metadata": {
    "execution": {
     "iopub.execute_input": "2021-08-17T18:28:12.751857Z",
     "iopub.status.busy": "2021-08-17T18:28:12.751183Z",
     "iopub.status.idle": "2021-08-17T18:28:12.775832Z",
     "shell.execute_reply": "2021-08-17T18:28:12.776353Z",
     "shell.execute_reply.started": "2021-08-17T18:20:23.510431Z"
    },
    "papermill": {
     "duration": 0.095843,
     "end_time": "2021-08-17T18:28:12.776528",
     "exception": false,
     "start_time": "2021-08-17T18:28:12.680685",
     "status": "completed"
    },
    "tags": []
   },
   "outputs": [
    {
     "data": {
      "text/plain": "   id  risk_flag\n0   1          0\n1   2          0\n2   3          1\n3   4          0\n4   5          0",
      "text/html": "<div>\n<style scoped>\n    .dataframe tbody tr th:only-of-type {\n        vertical-align: middle;\n    }\n\n    .dataframe tbody tr th {\n        vertical-align: top;\n    }\n\n    .dataframe thead th {\n        text-align: right;\n    }\n</style>\n<table border=\"1\" class=\"dataframe\">\n  <thead>\n    <tr style=\"text-align: right;\">\n      <th></th>\n      <th>id</th>\n      <th>risk_flag</th>\n    </tr>\n  </thead>\n  <tbody>\n    <tr>\n      <th>0</th>\n      <td>1</td>\n      <td>0</td>\n    </tr>\n    <tr>\n      <th>1</th>\n      <td>2</td>\n      <td>0</td>\n    </tr>\n    <tr>\n      <th>2</th>\n      <td>3</td>\n      <td>1</td>\n    </tr>\n    <tr>\n      <th>3</th>\n      <td>4</td>\n      <td>0</td>\n    </tr>\n    <tr>\n      <th>4</th>\n      <td>5</td>\n      <td>0</td>\n    </tr>\n  </tbody>\n</table>\n</div>"
     },
     "execution_count": 56,
     "metadata": {},
     "output_type": "execute_result"
    }
   ],
   "source": [
    "sub=pd.read_csv(\"C:/Users/user/python-projects\\loan predicition\\input/Sample Prediction Dataset.csv\")\n",
    "sub.head()"
   ]
  },
  {
   "cell_type": "code",
   "execution_count": 57,
   "id": "0600b279",
   "metadata": {
    "execution": {
     "iopub.execute_input": "2021-08-17T18:28:12.905329Z",
     "iopub.status.busy": "2021-08-17T18:28:12.904365Z",
     "iopub.status.idle": "2021-08-17T18:28:12.911225Z",
     "shell.execute_reply": "2021-08-17T18:28:12.910731Z",
     "shell.execute_reply.started": "2021-08-17T18:20:23.537755Z"
    },
    "papermill": {
     "duration": 0.072276,
     "end_time": "2021-08-17T18:28:12.911379",
     "exception": false,
     "start_time": "2021-08-17T18:28:12.839103",
     "status": "completed"
    },
    "tags": []
   },
   "outputs": [],
   "source": [
    "id=test[\"ID\"]\n",
    "risk_flag=test[\"Risk_FlagP\"]\n",
    "submission=pd.concat([id, risk_flag], axis=1)"
   ]
  },
  {
   "cell_type": "markdown",
   "id": "2f35442a",
   "metadata": {
    "papermill": {
     "duration": 0.063825,
     "end_time": "2021-08-17T18:28:13.038119",
     "exception": false,
     "start_time": "2021-08-17T18:28:12.974294",
     "status": "completed"
    },
    "tags": []
   },
   "source": [
    "- Submission data"
   ]
  },
  {
   "cell_type": "code",
   "execution_count": 58,
   "id": "0617a574",
   "metadata": {
    "execution": {
     "iopub.execute_input": "2021-08-17T18:28:13.171858Z",
     "iopub.status.busy": "2021-08-17T18:28:13.171195Z",
     "iopub.status.idle": "2021-08-17T18:28:13.174335Z",
     "shell.execute_reply": "2021-08-17T18:28:13.174833Z",
     "shell.execute_reply.started": "2021-08-17T18:20:23.546729Z"
    },
    "papermill": {
     "duration": 0.074329,
     "end_time": "2021-08-17T18:28:13.174995",
     "exception": false,
     "start_time": "2021-08-17T18:28:13.100666",
     "status": "completed"
    },
    "tags": []
   },
   "outputs": [
    {
     "data": {
      "text/plain": "   ID  Risk_FlagP\n0   1           0\n1   2           0\n2   3           0\n3   4           0\n4   5           0",
      "text/html": "<div>\n<style scoped>\n    .dataframe tbody tr th:only-of-type {\n        vertical-align: middle;\n    }\n\n    .dataframe tbody tr th {\n        vertical-align: top;\n    }\n\n    .dataframe thead th {\n        text-align: right;\n    }\n</style>\n<table border=\"1\" class=\"dataframe\">\n  <thead>\n    <tr style=\"text-align: right;\">\n      <th></th>\n      <th>ID</th>\n      <th>Risk_FlagP</th>\n    </tr>\n  </thead>\n  <tbody>\n    <tr>\n      <th>0</th>\n      <td>1</td>\n      <td>0</td>\n    </tr>\n    <tr>\n      <th>1</th>\n      <td>2</td>\n      <td>0</td>\n    </tr>\n    <tr>\n      <th>2</th>\n      <td>3</td>\n      <td>0</td>\n    </tr>\n    <tr>\n      <th>3</th>\n      <td>4</td>\n      <td>0</td>\n    </tr>\n    <tr>\n      <th>4</th>\n      <td>5</td>\n      <td>0</td>\n    </tr>\n  </tbody>\n</table>\n</div>"
     },
     "execution_count": 58,
     "metadata": {},
     "output_type": "execute_result"
    }
   ],
   "source": [
    "submission.head()"
   ]
  },
  {
   "cell_type": "markdown",
   "id": "2ea0ec67",
   "metadata": {
    "papermill": {
     "duration": 0.063314,
     "end_time": "2021-08-17T18:28:13.301551",
     "exception": false,
     "start_time": "2021-08-17T18:28:13.238237",
     "status": "completed"
    },
    "tags": []
   },
   "source": [
    "- Submission csv"
   ]
  },
  {
   "cell_type": "code",
   "execution_count": 59,
   "id": "c44e5132",
   "metadata": {
    "execution": {
     "iopub.execute_input": "2021-08-17T18:28:13.431161Z",
     "iopub.status.busy": "2021-08-17T18:28:13.430567Z",
     "iopub.status.idle": "2021-08-17T18:28:13.486575Z",
     "shell.execute_reply": "2021-08-17T18:28:13.487069Z",
     "shell.execute_reply.started": "2021-08-17T18:20:23.563505Z"
    },
    "papermill": {
     "duration": 0.123064,
     "end_time": "2021-08-17T18:28:13.487265",
     "exception": false,
     "start_time": "2021-08-17T18:28:13.364201",
     "status": "completed"
    },
    "tags": []
   },
   "outputs": [],
   "source": [
    "submission.to_csv(\"submission_one\",index=False)"
   ]
  },
  {
   "cell_type": "code",
   "execution_count": null,
   "id": "f0cb7189",
   "metadata": {
    "papermill": {
     "duration": 0.066531,
     "end_time": "2021-08-17T18:28:13.617095",
     "exception": false,
     "start_time": "2021-08-17T18:28:13.550564",
     "status": "completed"
    },
    "tags": []
   },
   "outputs": [],
   "source": []
  }
 ],
 "metadata": {
  "kernelspec": {
   "display_name": "Python 3",
   "language": "python",
   "name": "python3"
  },
  "language_info": {
   "codemirror_mode": {
    "name": "ipython",
    "version": 3
   },
   "file_extension": ".py",
   "mimetype": "text/x-python",
   "name": "python",
   "nbconvert_exporter": "python",
   "pygments_lexer": "ipython3",
   "version": "3.7.10"
  },
  "papermill": {
   "default_parameters": {},
   "duration": 25.909827,
   "end_time": "2021-08-17T18:28:15.270611",
   "environment_variables": {},
   "exception": null,
   "input_path": "__notebook__.ipynb",
   "output_path": "__notebook__.ipynb",
   "parameters": {},
   "start_time": "2021-08-17T18:27:49.360784",
   "version": "2.3.3"
  }
 },
 "nbformat": 4,
 "nbformat_minor": 5
}
